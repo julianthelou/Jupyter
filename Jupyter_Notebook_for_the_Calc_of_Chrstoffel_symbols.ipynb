{
 "cells": [
  {
   "cell_type": "markdown",
   "id": "89bafa61",
   "metadata": {},
   "source": [
    "## AdS$_3$ spacetimes\n",
    "This will be a simple jupyter notebook to write down the Christoffel symbols $\\Gamma^\\mu_{\\nu\\sigma}$, the Riemannian tensor $R^\\mu_{\\nu\\sigma\\rho}$, the Ricci tensor $R_{\\mu\\nu}$ and the Ricci scalar $R$, as well as the spatial Christoffel symbols $\\hat{\\Gamma}^k_{l m}$, the spatial Riemannian tensor $\\hat{R}^k_{lmn}$, the spatial Ricci tensor $\\hat{R}_{ij}$ and the spatial Ricci scalar $\\hat{R}$ for the AdS$_3$ spacetime. We will need the spatial Ricci scalar $\\hat{R}$ and some of the spatial Christoffel symbols $\\hat{\\Gamma}^k_{l m}$ to derive the initial value problem."
   ]
  },
  {
   "cell_type": "code",
   "execution_count": 116,
   "id": "804ced26",
   "metadata": {},
   "outputs": [],
   "source": [
    "from gravipy.tensorial import * \n",
    "from sympy import init_printing\n",
    "init_printing()"
   ]
  },
  {
   "cell_type": "markdown",
   "id": "841f598f",
   "metadata": {},
   "source": [
    "The AdS$_3$ metric in globale coordinates\n",
    "\\begin{equation}\n",
    "x^\\mu = (t,r,\\chi)\n",
    "\\end{equation}\n",
    "is given by\n",
    "\\begin{equation}\n",
    "g_{\\mu\\nu}=\\begin{pmatrix} \n",
    "-g(r) & 0 & 0  \\\\\n",
    "0 & \\frac{1}{g(r)} & 0 \\\\\n",
    "0 & 0 & r^2 \\\\\n",
    "\\end{pmatrix},\n",
    "\\end{equation}\n",
    "where $g(r)=1 + r^2 / L^2$. By compactifying the \"radial\" coordiante r to a finite value $\\rho$ by using the transformation\n",
    "\\begin{equation}\n",
    "r = \\frac{\\rho}{1 - \\rho/ \\ell},\n",
    "\\end{equation}\n",
    "we get the metric\n",
    "\\begin{equation}\n",
    "g_{\\mu\\nu}=\\begin{pmatrix} \n",
    "-\\frac{f(\\rho)}{\\left( 1-\\rho/\\ell\\right)^2} & 0 & 0  \\\\\n",
    "0 & \\frac{1}{f(\\rho)\\left( 1-\\rho/\\ell\\right)^2} & 0  \\\\\n",
    "0 & 0 & \\frac{\\rho^2}{\\left( 1-\\rho/\\ell\\right)^2}  \\\\\n",
    "\\end{pmatrix},\n",
    "\\end{equation}\n",
    "where $f(\\rho) = \\left( 1-\\rho/\\ell \\right)^2 + \\rho^2 / L^2.$"
   ]
  },
  {
   "cell_type": "code",
   "execution_count": 117,
   "id": "e604ef9f",
   "metadata": {},
   "outputs": [],
   "source": [
    "t, rho, chi, L, l = symbols('t, rho, chi, L, l')\n",
    "f = Function('f')(rho)\n",
    "# create a coordinate four-vector object instantiating \n",
    "# the Coordinates class\n",
    "x = Coordinates('x', [t, rho, chi])\n",
    "# define a matrix of a metric tensor components\n",
    "#Metric = diag((1-2*M/r), -1/(1-2*M/r), -r**2, -r**2*sin(theta)**2)\n",
    "Metric = diag( - (1 + rho**2 / ((1-rho/l)**2*L**2) ), 1 / ( (1-rho/l)**4 + (1-rho/l)**2 * rho**2 / L**2), rho**2 / (1-rho/l)**2 )\n",
    "# create a metric tensor object instantiating the MetricTensor class\n",
    "g = MetricTensor('g', x, Metric)"
   ]
  },
  {
   "cell_type": "markdown",
   "id": "81a1fe07",
   "metadata": {},
   "source": [
    "The metric $g_{\\mu\\nu}$ is given by"
   ]
  },
  {
   "cell_type": "code",
   "execution_count": 118,
   "id": "744a918c",
   "metadata": {},
   "outputs": [
    {
     "data": {
      "text/latex": [
       "$\\displaystyle \\left[\\begin{matrix}-1 - \\frac{\\rho^{2}}{L^{2} \\left(1 - \\frac{\\rho}{l}\\right)^{2}} & 0 & 0\\\\0 & \\frac{1}{\\left(1 - \\frac{\\rho}{l}\\right)^{4} + \\frac{\\rho^{2} \\left(1 - \\frac{\\rho}{l}\\right)^{2}}{L^{2}}} & 0\\\\0 & 0 & \\frac{\\rho^{2}}{\\left(1 - \\frac{\\rho}{l}\\right)^{2}}\\end{matrix}\\right]$"
      ],
      "text/plain": [
       "⎡           2                                      ⎤\n",
       "⎢          ρ                                       ⎥\n",
       "⎢-1 - ───────────            0                0    ⎥\n",
       "⎢               2                                  ⎥\n",
       "⎢      2 ⎛    ρ⎞                                   ⎥\n",
       "⎢     L ⋅⎜1 - ─⎟                                   ⎥\n",
       "⎢        ⎝    l⎠                                   ⎥\n",
       "⎢                                                  ⎥\n",
       "⎢                            1                     ⎥\n",
       "⎢       0          ──────────────────────     0    ⎥\n",
       "⎢                                       2          ⎥\n",
       "⎢                              2 ⎛    ρ⎞           ⎥\n",
       "⎢                         4   ρ ⋅⎜1 - ─⎟           ⎥\n",
       "⎢                  ⎛    ρ⎞       ⎝    l⎠           ⎥\n",
       "⎢                  ⎜1 - ─⎟  + ───────────          ⎥\n",
       "⎢                  ⎝    l⎠          2              ⎥\n",
       "⎢                                  L               ⎥\n",
       "⎢                                                  ⎥\n",
       "⎢                                              2   ⎥\n",
       "⎢                                             ρ    ⎥\n",
       "⎢       0                    0             ────────⎥\n",
       "⎢                                                 2⎥\n",
       "⎢                                          ⎛    ρ⎞ ⎥\n",
       "⎢                                          ⎜1 - ─⎟ ⎥\n",
       "⎣                                          ⎝    l⎠ ⎦"
      ]
     },
     "execution_count": 118,
     "metadata": {},
     "output_type": "execute_result"
    }
   ],
   "source": [
    "g(All, All)"
   ]
  },
  {
   "cell_type": "markdown",
   "id": "e31b0bdf",
   "metadata": {},
   "source": [
    "while the inverse metric $g^{\\mu\\nu}$ is given by g(-All,-All). Let us next calculate the Christoffel symbols defined by\n",
    "\\begin{equation}\n",
    "\\Gamma_{\\mu\\nu\\sigma} = g_{\\rho\\sigma} \\Gamma^\\rho_{\\mu\\nu} = \\frac{1}{2} \\left( \\partial_\\mu g_{\\nu\\sigma} + \\partial_\\nu g_{\\mu\\sigma} - \\partial_\\sigma g_{\\mu\\nu} \\right)\n",
    "\\end{equation}\n",
    "This can be done in jupyter by"
   ]
  },
  {
   "cell_type": "code",
   "execution_count": 119,
   "id": "24758d1c",
   "metadata": {},
   "outputs": [
    {
     "data": {
      "text/latex": [
       "$\\displaystyle \\left[\\begin{matrix}\\left[\\begin{matrix}0 & - \\frac{l^{3} \\rho}{L^{2} \\left(l - \\rho\\right)^{3}} & 0\\\\- \\frac{l^{3} \\rho}{L^{2} \\left(l - \\rho\\right)^{3}} & 0 & 0\\\\0 & 0 & 0\\end{matrix}\\right] & \\left[\\begin{matrix}\\frac{l^{3} \\rho}{L^{2} \\left(l - \\rho\\right)^{3}} & 0 & 0\\\\0 & \\frac{L^{2} l^{4} \\left(2 L^{2} \\left(l - \\rho\\right)^{2} + l^{2} \\rho^{2} - l^{2} \\rho \\left(l - \\rho\\right)\\right)}{\\left(l - \\rho\\right)^{3} \\left(L^{2} \\left(l - \\rho\\right)^{2} + l^{2} \\rho^{2}\\right)^{2}} & 0\\\\0 & 0 & - \\frac{l^{3} \\rho}{\\left(l - \\rho\\right)^{3}}\\end{matrix}\\right] & \\left[\\begin{matrix}0 & 0 & 0\\\\0 & 0 & \\frac{l^{3} \\rho}{\\left(l - \\rho\\right)^{3}}\\\\0 & \\frac{l^{3} \\rho}{\\left(l - \\rho\\right)^{3}} & 0\\end{matrix}\\right]\\end{matrix}\\right]$"
      ],
      "text/plain": [
       "⎡                               ⎡     3                                       \n",
       "⎢                               ⎢    l ⋅ρ                                     \n",
       "⎢                               ⎢───────────                       0          \n",
       "⎢⎡                  3        ⎤  ⎢ 2        3                                  \n",
       "⎢⎢                -l ⋅ρ      ⎥  ⎢L ⋅(l - ρ)                                   \n",
       "⎢⎢     0       ───────────  0⎥  ⎢                                             \n",
       "⎢⎢              2        3   ⎥  ⎢              2  4 ⎛   2        2    2  2    \n",
       "⎢⎢             L ⋅(l - ρ)    ⎥  ⎢             L ⋅l ⋅⎝2⋅L ⋅(l - ρ)  + l ⋅ρ  - l\n",
       "⎢⎢                           ⎥  ⎢     0       ────────────────────────────────\n",
       "⎢⎢     3                     ⎥  ⎢                                             \n",
       "⎢⎢   -l ⋅ρ                   ⎥  ⎢                          3 ⎛ 2        2    2\n",
       "⎢⎢───────────       0       0⎥  ⎢                   (l - ρ) ⋅⎝L ⋅(l - ρ)  + l \n",
       "⎢⎢ 2        3                ⎥  ⎢                                             \n",
       "⎢⎢L ⋅(l - ρ)                 ⎥  ⎢                                             \n",
       "⎢⎢                           ⎥  ⎢                                             \n",
       "⎢⎣     0            0       0⎦  ⎢     0                            0          \n",
       "⎢                               ⎢                                             \n",
       "⎣                               ⎣                                             \n",
       "\n",
       "                      ⎤                         ⎤\n",
       "                      ⎥                         ⎥\n",
       "                 0    ⎥                         ⎥\n",
       "                      ⎥  ⎡0     0         0    ⎤⎥\n",
       "                      ⎥  ⎢                     ⎥⎥\n",
       "                      ⎥  ⎢                3    ⎥⎥\n",
       "2          ⎞          ⎥  ⎢               l ⋅ρ  ⎥⎥\n",
       " ⋅ρ⋅(l - ρ)⎠          ⎥  ⎢0     0      ────────⎥⎥\n",
       "────────────     0    ⎥  ⎢                    3⎥⎥\n",
       "    2                 ⎥  ⎢             (l - ρ) ⎥⎥\n",
       "  2⎞                  ⎥  ⎢                     ⎥⎥\n",
       "⋅ρ ⎠                  ⎥  ⎢      3              ⎥⎥\n",
       "                      ⎥  ⎢     l ⋅ρ            ⎥⎥\n",
       "                 3    ⎥  ⎢0  ────────     0    ⎥⎥\n",
       "               -l ⋅ρ  ⎥  ⎢          3          ⎥⎥\n",
       "              ────────⎥  ⎣   (l - ρ)           ⎦⎥\n",
       "                     3⎥                         ⎥\n",
       "              (l - ρ) ⎦                         ⎦"
      ]
     },
     "execution_count": 119,
     "metadata": {},
     "output_type": "execute_result"
    }
   ],
   "source": [
    "Ga = Christoffel('Ga',g)\n",
    "Ga(All,All,All)"
   ]
  },
  {
   "cell_type": "markdown",
   "id": "012f7d8f",
   "metadata": {},
   "source": [
    "The Riemannian tensor of the AdS$_3$ metric can be, respectively, calculated and displayed in jupyter by\n",
    "\\begin{equation}\n",
    "R_{\\mu\\nu\\rho\\sigma} = \\partial_\\rho \\Gamma_{\\mu\\nu\\sigma} - \\partial_\\sigma \\Gamma_{\\mu\\nu\\rho} + \\Gamma^\\alpha_{\\nu\\sigma} \\Gamma_{\\mu\\sigma\\alpha} - \\Gamma^\\alpha_{\\nu\\rho}\\Gamma_{\\mu\\sigma\\alpha} - \\partial_\\rho g_{\\mu\\alpha} \\Gamma^\\alpha_{\\nu\\sigma} + \\partial_\\sigma g_{\\mu\\alpha} \\Gamma^\\alpha_{\\nu\\rho}\n",
    "\\end{equation}\n",
    "and"
   ]
  },
  {
   "cell_type": "code",
   "execution_count": 120,
   "id": "d986a825",
   "metadata": {},
   "outputs": [],
   "source": [
    "Rm = Riemann('Rm',g)"
   ]
  },
  {
   "cell_type": "markdown",
   "id": "34d025bf",
   "metadata": {},
   "source": [
    "The Ricci tensor $R_{\\mu\\nu}$ can be, respectively, calculated and displayed in jupyter by\n",
    "\\begin{equation}\n",
    "R_{\\alpha\\beta} = R^\\mu_{\\mu \\alpha\\beta}\n",
    "\\end{equation}\n",
    "and "
   ]
  },
  {
   "cell_type": "code",
   "execution_count": 121,
   "id": "743f1eb0",
   "metadata": {},
   "outputs": [],
   "source": [
    "Ri = Ricci('Ri', g)"
   ]
  },
  {
   "cell_type": "markdown",
   "id": "22637811",
   "metadata": {},
   "source": [
    "and the Ricci scalar R can be, respectively, calculated and displayed in jupyter by\n",
    "\\begin{equation}\n",
    "R = R_\\mu^\\mu\n",
    "\\end{equation}\n",
    "and"
   ]
  },
  {
   "cell_type": "code",
   "execution_count": 122,
   "id": "58cd362a",
   "metadata": {},
   "outputs": [
    {
     "data": {
      "text/latex": [
       "$\\displaystyle - \\frac{6}{L^{2}}$"
      ],
      "text/plain": [
       "-6 \n",
       "───\n",
       "  2\n",
       " L "
      ]
     },
     "execution_count": 122,
     "metadata": {},
     "output_type": "execute_result"
    }
   ],
   "source": [
    "Ri.scalar()"
   ]
  },
  {
   "cell_type": "markdown",
   "id": "4fb75f18",
   "metadata": {},
   "source": [
    "Let us calculate the spatial Ricci scalar:\n",
    "\\begin{equation}\n",
    "\\hat{R}=\\gamma^{ij} \\hat{R}_{ij}\n",
    "\\end{equation}\n",
    "For this, we need to redefine the spatial $\\gamma$ matrix and calculate the same objects\n",
    "as above."
   ]
  },
  {
   "cell_type": "code",
   "execution_count": 123,
   "id": "f139abe7",
   "metadata": {},
   "outputs": [],
   "source": [
    "rho, chi, L, l = symbols('rho, chi, L, l')\n",
    "g = Function('g')(rho)\n",
    "# create a coordinate four-vector object instantiating \n",
    "# the Coordinates class\n",
    "x = Coordinates('x', [rho, chi])\n",
    "# define a matrix of a metric tensor components\n",
    "#Metric = diag((1-2*M/r), -1/(1-2*M/r), -r**2, -r**2*sin(theta)**2)\n",
    "Metric = diag( 1 / ( (1-rho/l)**4 + (1-rho/l)**2 * rho**2 / L**2), rho**2 / (1-rho/l)**2 )\n",
    "# create a metric tensor object instantiating the MetricTensor class\n",
    "h = MetricTensor('h', x, Metric)"
   ]
  },
  {
   "cell_type": "code",
   "execution_count": 124,
   "id": "431a8849",
   "metadata": {},
   "outputs": [
    {
     "data": {
      "text/latex": [
       "$\\displaystyle \\left[\\begin{matrix}\\frac{1}{\\left(1 - \\frac{\\rho}{l}\\right)^{4} + \\frac{\\rho^{2} \\left(1 - \\frac{\\rho}{l}\\right)^{2}}{L^{2}}} & 0\\\\0 & \\frac{\\rho^{2}}{\\left(1 - \\frac{\\rho}{l}\\right)^{2}}\\end{matrix}\\right]$"
      ],
      "text/plain": [
       "⎡          1                     ⎤\n",
       "⎢──────────────────────     0    ⎥\n",
       "⎢                     2          ⎥\n",
       "⎢            2 ⎛    ρ⎞           ⎥\n",
       "⎢       4   ρ ⋅⎜1 - ─⎟           ⎥\n",
       "⎢⎛    ρ⎞       ⎝    l⎠           ⎥\n",
       "⎢⎜1 - ─⎟  + ───────────          ⎥\n",
       "⎢⎝    l⎠          2              ⎥\n",
       "⎢                L               ⎥\n",
       "⎢                                ⎥\n",
       "⎢                            2   ⎥\n",
       "⎢                           ρ    ⎥\n",
       "⎢          0             ────────⎥\n",
       "⎢                               2⎥\n",
       "⎢                        ⎛    ρ⎞ ⎥\n",
       "⎢                        ⎜1 - ─⎟ ⎥\n",
       "⎣                        ⎝    l⎠ ⎦"
      ]
     },
     "execution_count": 124,
     "metadata": {},
     "output_type": "execute_result"
    }
   ],
   "source": [
    "h(All, All)"
   ]
  },
  {
   "cell_type": "code",
   "execution_count": 125,
   "id": "9eefc2d0",
   "metadata": {},
   "outputs": [],
   "source": [
    "Ga_spatial = Christoffel('Ga_spatial',h)\n",
    "Rm_spatial = Riemann('Rm_spatial',h)\n",
    "Ri_spatial = Ricci('Ri_spatial', h)"
   ]
  },
  {
   "cell_type": "markdown",
   "id": "63e9aec2",
   "metadata": {},
   "source": [
    "The Christoffel symbols can be calcualted as above, where\n",
    "\\begin{align}\n",
    "Ga(k,l,m) &= \\hat{\\Gamma}_{klm} \\\\\n",
    "Ga(-k,l,m)&= \\hat{\\Gamma}^k_{lm}\n",
    "\\end{align}"
   ]
  },
  {
   "cell_type": "code",
   "execution_count": 126,
   "id": "d362ddc9",
   "metadata": {},
   "outputs": [
    {
     "data": {
      "text/latex": [
       "$\\displaystyle \\left[\\begin{matrix}\\frac{2 L^{2} \\left(l - \\rho\\right)^{2} + l^{2} \\rho^{2} - l^{2} \\rho \\left(l - \\rho\\right)}{\\left(l - \\rho\\right) \\left(L^{2} \\left(l - \\rho\\right)^{2} + l^{2} \\rho^{2}\\right)} & 0\\\\0 & - \\frac{\\rho \\left(L^{2} \\left(l - \\rho\\right)^{2} + l^{2} \\rho^{2}\\right)}{L^{2} l \\left(l - \\rho\\right)}\\end{matrix}\\right]$"
      ],
      "text/plain": [
       "⎡   2        2    2  2    2                                     ⎤\n",
       "⎢2⋅L ⋅(l - ρ)  + l ⋅ρ  - l ⋅ρ⋅(l - ρ)                           ⎥\n",
       "⎢────────────────────────────────────              0            ⎥\n",
       "⎢           ⎛ 2        2    2  2⎞                               ⎥\n",
       "⎢   (l - ρ)⋅⎝L ⋅(l - ρ)  + l ⋅ρ ⎠                               ⎥\n",
       "⎢                                                               ⎥\n",
       "⎢                                         ⎛ 2        2    2  2⎞ ⎥\n",
       "⎢                                      -ρ⋅⎝L ⋅(l - ρ)  + l ⋅ρ ⎠ ⎥\n",
       "⎢                 0                    ─────────────────────────⎥\n",
       "⎢                                              2                ⎥\n",
       "⎣                                             L ⋅l⋅(l - ρ)      ⎦"
      ]
     },
     "execution_count": 126,
     "metadata": {},
     "output_type": "execute_result"
    }
   ],
   "source": [
    "Ga_spatial(-1,All,All)"
   ]
  },
  {
   "cell_type": "markdown",
   "id": "891e881b",
   "metadata": {},
   "source": [
    "In this way, $\\hat{\\Gamma}^\\rho_{\\rho\\rho}$ and $\\hat{\\Gamma}^\\chi{\\chi\\chi}$ can be written in terms of $q=1-\\rho/\\ell$ and $a=q^2 + \\rho^2 / L^2 $ by\n",
    "\\begin{align}\n",
    "\\hat{\\Gamma}^\\rho_{\\rho\\rho} &= \\frac{q}{a \\ell} + \\frac{1}{q \\ell} - \\frac{\\rho}{L^2 a}  \\\\\n",
    "\\hat{\\Gamma}^\\rho_{\\chi\\chi} &= - \\frac{\\rho a}{q}\n",
    "\\end{align}\n",
    "and, thus\n",
    "\\begin{align}\n",
    "\\hat{\\gamma}^{\\rho\\rho} \\hat{\\Gamma}^\\rho_{\\rho\\rho} &= \\frac{q^3}{\\ell} + \\frac{q a}{\\ell} - \\frac{q^2 \\rho}{L^2}  \\\\\n",
    "\\hat{\\gamma}^{\\chi\\chi} \\hat{\\Gamma}^\\rho_{\\chi\\chi} &= - \\frac{q a}{\\rho}.\n",
    "\\end{align}"
   ]
  },
  {
   "cell_type": "code",
   "execution_count": 127,
   "id": "9c52b9e1",
   "metadata": {},
   "outputs": [
    {
     "data": {
      "text/latex": [
       "$\\displaystyle \\left[\\begin{matrix}0 & \\frac{l}{\\rho \\left(l - \\rho\\right)}\\\\\\frac{l}{\\rho \\left(l - \\rho\\right)} & 0\\end{matrix}\\right]$"
      ],
      "text/plain": [
       "⎡               l    ⎤\n",
       "⎢    0      ─────────⎥\n",
       "⎢           ρ⋅(l - ρ)⎥\n",
       "⎢                    ⎥\n",
       "⎢    l               ⎥\n",
       "⎢─────────      0    ⎥\n",
       "⎣ρ⋅(l - ρ)           ⎦"
      ]
     },
     "execution_count": 127,
     "metadata": {},
     "output_type": "execute_result"
    }
   ],
   "source": [
    "Ga_spatial(-2,All,All)"
   ]
  },
  {
   "cell_type": "markdown",
   "id": "e6950893",
   "metadata": {},
   "source": [
    "The spatial Ricci scalar $\\hat{R}$ is given by"
   ]
  },
  {
   "cell_type": "code",
   "execution_count": 128,
   "id": "a7a4b7cb",
   "metadata": {},
   "outputs": [
    {
     "data": {
      "text/latex": [
       "$\\displaystyle - \\frac{2}{L^{2}}$"
      ],
      "text/plain": [
       "-2 \n",
       "───\n",
       "  2\n",
       " L "
      ]
     },
     "execution_count": 128,
     "metadata": {},
     "output_type": "execute_result"
    }
   ],
   "source": [
    "Ri_spatial.scalar()"
   ]
  },
  {
   "cell_type": "markdown",
   "id": "0702ff67",
   "metadata": {},
   "source": [
    "## AdS$_4$ spacetimes\n",
    "This will be a simple jupyter notebook to write down the Christoffel symbols $\\Gamma^\\mu_{\\nu\\sigma}$, the Riemannian tensor $R^\\mu_{\\nu\\sigma\\rho}$, the Ricci tensor $R_{\\mu\\nu}$, the Ricci scalar $R$, as well as the spatial Christoffel symbols $\\hat{\\Gamma}^k_{l m}$, the spatial Riemannian tensor $\\hat{R}^k_{lmn}$, the spatial Ricci tensor $\\hat{R}_{ij}$ and the spatial Ricci scalar $\\hat{R}$ for the AdS$_4$ spacetime. We will need the spatial Ricci scalar $\\hat{R}$ and some of the spatial Christoffel symbols $\\hat{\\Gamma}^k_{l m}$ to derive the initial value problem."
   ]
  },
  {
   "cell_type": "code",
   "execution_count": 129,
   "id": "02fbea90",
   "metadata": {},
   "outputs": [],
   "source": [
    "from gravipy.tensorial import * \n",
    "from sympy import init_printing\n",
    "init_printing()"
   ]
  },
  {
   "cell_type": "markdown",
   "id": "30579713",
   "metadata": {},
   "source": [
    "The $AdS_4$ metric in globale coordinates\n",
    "\\begin{equation}\n",
    "x^\\mu = (t,r,\\chi,\\theta)\n",
    "\\end{equation}\n",
    "is given by\n",
    "\\begin{equation}\n",
    "g_{\\mu\\nu}=\\begin{pmatrix} \n",
    "-g(r) & 0 & 0 & 0 \\\\\n",
    "0 & \\frac{1}{g(r)} & 0 & 0 \\\\\n",
    "0 & 0 & r^2 & 0 \\\\\n",
    "0 & 0 & 0 & r^2 \\sin^2 \\chi\n",
    "\\end{pmatrix},\n",
    "\\end{equation}\n",
    "where $g(r)=1 + r^2 / L^2$. By compactifying the \"radial\" coordiante r to a finite value $\\rho$ by using the transformation\n",
    "\\begin{equation}\n",
    "r = \\frac{\\rho}{1 - \\rho/ \\ell},\n",
    "\\end{equation}\n",
    "we get the metric\n",
    "\\begin{equation}\n",
    "g_{\\mu\\nu}=\\begin{pmatrix} \n",
    "-\\frac{f(\\rho)}{\\left( 1-\\rho/\\ell\\right)^2} & 0 & 0 & 0 \\\\\n",
    "0 & \\frac{1}{f(\\rho)\\left( 1-\\rho/\\ell\\right)^2} & 0 & 0 \\\\\n",
    "0 & 0 & \\frac{\\rho^2}{\\left( 1-\\rho/\\ell\\right)^2} & 0 \\\\\n",
    "0 & 0 & 0 & \\frac{\\rho^2 \\sin^2 \\chi}{\\left( 1-\\rho/\\ell\\right)^2} \n",
    "\\end{pmatrix},\n",
    "\\end{equation}\n",
    "where $f(\\rho) = \\left( 1-\\rho/\\ell \\right)^2 + \\rho^2 / L^2.$"
   ]
  },
  {
   "cell_type": "code",
   "execution_count": 130,
   "id": "df4035b2",
   "metadata": {},
   "outputs": [],
   "source": [
    "t, rho, chi, theta, L, l = symbols('t, rho, chi, theta, L, l')\n",
    "f = Function('f')(rho)\n",
    "# create a coordinate four-vector object instantiating \n",
    "# the Coordinates class\n",
    "x = Coordinates('x', [t, rho, chi, theta])\n",
    "# define a matrix of a metric tensor components\n",
    "#Metric = diag((1-2*M/r), -1/(1-2*M/r), -r**2, -r**2*sin(theta)**2)\n",
    "Metric = diag( - (1 + rho**2 / ((1-rho/l)**2*L**2) ), 1 / ( (1-rho/l)**4 + (1-rho/l)**2 * rho**2 / L**2), rho**2 / (1-rho/l)**2, rho**2*sin(chi)**2/ (1-rho/l)**2 )\n",
    "# create a metric tensor object instantiating the MetricTensor class\n",
    "g = MetricTensor('g', x, Metric)"
   ]
  },
  {
   "cell_type": "markdown",
   "id": "101cd5b9",
   "metadata": {},
   "source": [
    "The metric $g_{\\mu\\nu}$ is given by"
   ]
  },
  {
   "cell_type": "code",
   "execution_count": 131,
   "id": "9b3324e0",
   "metadata": {},
   "outputs": [
    {
     "data": {
      "text/latex": [
       "$\\displaystyle \\left[\\begin{matrix}-1 - \\frac{\\rho^{2}}{L^{2} \\left(1 - \\frac{\\rho}{l}\\right)^{2}} & 0 & 0 & 0\\\\0 & \\frac{1}{\\left(1 - \\frac{\\rho}{l}\\right)^{4} + \\frac{\\rho^{2} \\left(1 - \\frac{\\rho}{l}\\right)^{2}}{L^{2}}} & 0 & 0\\\\0 & 0 & \\frac{\\rho^{2}}{\\left(1 - \\frac{\\rho}{l}\\right)^{2}} & 0\\\\0 & 0 & 0 & \\frac{\\rho^{2} \\sin^{2}{\\left(\\chi \\right)}}{\\left(1 - \\frac{\\rho}{l}\\right)^{2}}\\end{matrix}\\right]$"
      ],
      "text/plain": [
       "⎡           2                                                  ⎤\n",
       "⎢          ρ                                                   ⎥\n",
       "⎢-1 - ───────────            0                0          0     ⎥\n",
       "⎢               2                                              ⎥\n",
       "⎢      2 ⎛    ρ⎞                                               ⎥\n",
       "⎢     L ⋅⎜1 - ─⎟                                               ⎥\n",
       "⎢        ⎝    l⎠                                               ⎥\n",
       "⎢                                                              ⎥\n",
       "⎢                            1                                 ⎥\n",
       "⎢       0          ──────────────────────     0          0     ⎥\n",
       "⎢                                       2                      ⎥\n",
       "⎢                              2 ⎛    ρ⎞                       ⎥\n",
       "⎢                         4   ρ ⋅⎜1 - ─⎟                       ⎥\n",
       "⎢                  ⎛    ρ⎞       ⎝    l⎠                       ⎥\n",
       "⎢                  ⎜1 - ─⎟  + ───────────                      ⎥\n",
       "⎢                  ⎝    l⎠          2                          ⎥\n",
       "⎢                                  L                           ⎥\n",
       "⎢                                                              ⎥\n",
       "⎢                                              2               ⎥\n",
       "⎢                                             ρ                ⎥\n",
       "⎢       0                    0             ────────      0     ⎥\n",
       "⎢                                                 2            ⎥\n",
       "⎢                                          ⎛    ρ⎞             ⎥\n",
       "⎢                                          ⎜1 - ─⎟             ⎥\n",
       "⎢                                          ⎝    l⎠             ⎥\n",
       "⎢                                                              ⎥\n",
       "⎢                                                     2    2   ⎥\n",
       "⎢                                                    ρ ⋅sin (χ)⎥\n",
       "⎢       0                    0                0      ──────────⎥\n",
       "⎢                                                            2 ⎥\n",
       "⎢                                                     ⎛    ρ⎞  ⎥\n",
       "⎢                                                     ⎜1 - ─⎟  ⎥\n",
       "⎣                                                     ⎝    l⎠  ⎦"
      ]
     },
     "execution_count": 131,
     "metadata": {},
     "output_type": "execute_result"
    }
   ],
   "source": [
    "g(All, All)"
   ]
  },
  {
   "cell_type": "markdown",
   "id": "d22fc1ed",
   "metadata": {},
   "source": [
    "Let us next calculate the Christoffel symbols defined by\n",
    "\\begin{equation}\n",
    "\\Gamma_{\\mu\\nu\\sigma} = g_{\\rho\\sigma} \\Gamma^\\rho_{\\mu\\nu} = \\frac{1}{2} \\left( \\partial_\\mu g_{\\nu\\sigma} + \\partial_\\nu g_{\\mu\\sigma} - \\partial_\\sigma g_{\\mu\\nu} \\right)\n",
    "\\end{equation}\n",
    "They can be displayed in jupyter by"
   ]
  },
  {
   "cell_type": "code",
   "execution_count": 132,
   "id": "86114c69",
   "metadata": {},
   "outputs": [
    {
     "data": {
      "text/latex": [
       "$\\displaystyle \\left( \\left[\\begin{matrix}0 & - \\frac{l^{3} \\rho}{L^{2} \\left(l - \\rho\\right)^{3}} & 0 & 0\\\\- \\frac{l^{3} \\rho}{L^{2} \\left(l - \\rho\\right)^{3}} & 0 & 0 & 0\\\\0 & 0 & 0 & 0\\\\0 & 0 & 0 & 0\\end{matrix}\\right], \\  \\left[\\begin{matrix}\\frac{l^{3} \\rho}{L^{2} \\left(l - \\rho\\right)^{3}} & 0 & 0 & 0\\\\0 & \\frac{L^{2} l^{4} \\left(2 L^{2} \\left(l - \\rho\\right)^{2} + l^{2} \\rho^{2} - l^{2} \\rho \\left(l - \\rho\\right)\\right)}{\\left(l - \\rho\\right)^{3} \\left(L^{2} \\left(l - \\rho\\right)^{2} + l^{2} \\rho^{2}\\right)^{2}} & 0 & 0\\\\0 & 0 & - \\frac{l^{3} \\rho}{\\left(l - \\rho\\right)^{3}} & 0\\\\0 & 0 & 0 & - \\frac{l^{3} \\rho \\sin^{2}{\\left(\\chi \\right)}}{\\left(l - \\rho\\right)^{3}}\\end{matrix}\\right]\\right)$"
      ],
      "text/plain": [
       "⎛                                  ⎡     3                                    \n",
       "⎜                                  ⎢    l ⋅ρ                                  \n",
       "⎜                                  ⎢───────────                       0       \n",
       "⎜                                  ⎢ 2        3                               \n",
       "⎜                                  ⎢L ⋅(l - ρ)                                \n",
       "⎜⎡                  3           ⎤  ⎢                                          \n",
       "⎜⎢                -l ⋅ρ         ⎥  ⎢              2  4 ⎛   2        2    2  2 \n",
       "⎜⎢     0       ───────────  0  0⎥  ⎢             L ⋅l ⋅⎝2⋅L ⋅(l - ρ)  + l ⋅ρ  \n",
       "⎜⎢              2        3      ⎥  ⎢     0       ─────────────────────────────\n",
       "⎜⎢             L ⋅(l - ρ)       ⎥  ⎢                                          \n",
       "⎜⎢                              ⎥  ⎢                          3 ⎛ 2        2  \n",
       "⎜⎢     3                        ⎥  ⎢                   (l - ρ) ⋅⎝L ⋅(l - ρ)  +\n",
       "⎜⎢   -l ⋅ρ                      ⎥, ⎢                                          \n",
       "⎜⎢───────────       0       0  0⎥  ⎢                                          \n",
       "⎜⎢ 2        3                   ⎥  ⎢                                          \n",
       "⎜⎢L ⋅(l - ρ)                    ⎥  ⎢     0                            0       \n",
       "⎜⎢                              ⎥  ⎢                                          \n",
       "⎜⎢     0            0       0  0⎥  ⎢                                          \n",
       "⎜⎢                              ⎥  ⎢                                          \n",
       "⎜⎣     0            0       0  0⎦  ⎢                                          \n",
       "⎜                                  ⎢                                          \n",
       "⎜                                  ⎢     0                            0       \n",
       "⎜                                  ⎢                                          \n",
       "⎝                                  ⎣                                          \n",
       "\n",
       "                                         ⎤⎞\n",
       "                                         ⎥⎟\n",
       "                    0            0       ⎥⎟\n",
       "                                         ⎥⎟\n",
       "                                         ⎥⎟\n",
       "                                         ⎥⎟\n",
       "   2          ⎞                          ⎥⎟\n",
       "- l ⋅ρ⋅(l - ρ)⎠                          ⎥⎟\n",
       "───────────────     0            0       ⎥⎟\n",
       "       2                                 ⎥⎟\n",
       "  2  2⎞                                  ⎥⎟\n",
       " l ⋅ρ ⎠                                  ⎥⎟\n",
       "                                         ⎥⎟\n",
       "                    3                    ⎥⎟\n",
       "                  -l ⋅ρ                  ⎥⎟\n",
       "                 ────────        0       ⎥⎟\n",
       "                        3                ⎥⎟\n",
       "                 (l - ρ)                 ⎥⎟\n",
       "                                         ⎥⎟\n",
       "                             3      2    ⎥⎟\n",
       "                           -l ⋅ρ⋅sin (χ) ⎥⎟\n",
       "                    0      ──────────────⎥⎟\n",
       "                                     3   ⎥⎟\n",
       "                              (l - ρ)    ⎦⎠"
      ]
     },
     "execution_count": 132,
     "metadata": {},
     "output_type": "execute_result"
    }
   ],
   "source": [
    "Ga = Christoffel('Ga',g)\n",
    "Ga(1,All,All),Ga(2,All,All)"
   ]
  },
  {
   "cell_type": "code",
   "execution_count": 133,
   "id": "a42ee782",
   "metadata": {},
   "outputs": [
    {
     "data": {
      "text/latex": [
       "$\\displaystyle \\left( \\left[\\begin{matrix}0 & 0 & 0 & 0\\\\0 & 0 & \\frac{l^{3} \\rho}{\\left(l - \\rho\\right)^{3}} & 0\\\\0 & \\frac{l^{3} \\rho}{\\left(l - \\rho\\right)^{3}} & 0 & 0\\\\0 & 0 & 0 & - \\frac{l^{2} \\rho^{2} \\sin{\\left(2 \\chi \\right)}}{2 \\left(l - \\rho\\right)^{2}}\\end{matrix}\\right], \\  \\left[\\begin{matrix}0 & 0 & 0 & 0\\\\0 & 0 & 0 & \\frac{l^{3} \\rho \\sin^{2}{\\left(\\chi \\right)}}{\\left(l - \\rho\\right)^{3}}\\\\0 & 0 & 0 & \\frac{l^{2} \\rho^{2} \\sin{\\left(2 \\chi \\right)}}{2 \\left(l - \\rho\\right)^{2}}\\\\0 & \\frac{l^{3} \\rho \\sin^{2}{\\left(\\chi \\right)}}{\\left(l - \\rho\\right)^{3}} & \\frac{l^{2} \\rho^{2} \\sin{\\left(2 \\chi \\right)}}{2 \\left(l - \\rho\\right)^{2}} & 0\\end{matrix}\\right]\\right)$"
      ],
      "text/plain": [
       "⎛⎡0     0         0             0        ⎤  ⎡0       0              0         \n",
       "⎜⎢                                       ⎥  ⎢                                 \n",
       "⎜⎢                3                      ⎥  ⎢                                 \n",
       "⎜⎢               l ⋅ρ                    ⎥  ⎢                                 \n",
       "⎜⎢0     0      ────────         0        ⎥  ⎢0       0              0         \n",
       "⎜⎢                    3                  ⎥  ⎢                                 \n",
       "⎜⎢             (l - ρ)                   ⎥  ⎢                                 \n",
       "⎜⎢                                       ⎥  ⎢                                 \n",
       "⎜⎢      3                                ⎥  ⎢                                 \n",
       "⎜⎢     l ⋅ρ                              ⎥, ⎢                                 \n",
       "⎜⎢0  ────────     0             0        ⎥  ⎢0       0              0         \n",
       "⎜⎢          3                            ⎥  ⎢                                 \n",
       "⎜⎢   (l - ρ)                             ⎥  ⎢                                 \n",
       "⎜⎢                                       ⎥  ⎢                                 \n",
       "⎜⎢                         2  2          ⎥  ⎢    3      2      2  2           \n",
       "⎜⎢                       -l ⋅ρ ⋅sin(2⋅χ) ⎥  ⎢   l ⋅ρ⋅sin (χ)  l ⋅ρ ⋅sin(2⋅χ)  \n",
       "⎜⎢0     0         0      ────────────────⎥  ⎢0  ────────────  ──────────────  \n",
       "⎜⎢                                   2   ⎥  ⎢            3               2    \n",
       "⎝⎣                          2⋅(l - ρ)    ⎦  ⎣     (l - ρ)       2⋅(l - ρ)     \n",
       "\n",
       "      0       ⎤⎞\n",
       "              ⎥⎟\n",
       "  3      2    ⎥⎟\n",
       " l ⋅ρ⋅sin (χ) ⎥⎟\n",
       " ──────────── ⎥⎟\n",
       "          3   ⎥⎟\n",
       "   (l - ρ)    ⎥⎟\n",
       "              ⎥⎟\n",
       " 2  2         ⎥⎟\n",
       "l ⋅ρ ⋅sin(2⋅χ)⎥⎟\n",
       "──────────────⎥⎟\n",
       "           2  ⎥⎟\n",
       "  2⋅(l - ρ)   ⎥⎟\n",
       "              ⎥⎟\n",
       "              ⎥⎟\n",
       "              ⎥⎟\n",
       "      0       ⎥⎟\n",
       "              ⎥⎟\n",
       "              ⎦⎠"
      ]
     },
     "execution_count": 133,
     "metadata": {},
     "output_type": "execute_result"
    }
   ],
   "source": [
    "Ga(3,All,All),Ga(4,All,All)"
   ]
  },
  {
   "cell_type": "markdown",
   "id": "8cd8fb8a",
   "metadata": {},
   "source": [
    "The Riemannian tensor of the $AdS_4$ metric can be, respectively, calculated and displayed in jupyter by\n",
    "\\begin{equation}\n",
    "R_{\\mu\\nu\\rho\\sigma} = \\partial_\\rho \\Gamma_{\\mu\\nu\\sigma} - \\partial_\\sigma \\Gamma_{\\mu\\nu\\rho} + \\Gamma^\\alpha_{\\nu\\sigma} \\Gamma_{\\mu\\sigma\\alpha} - \\Gamma^\\alpha_{\\nu\\rho}\\Gamma_{\\mu\\sigma\\alpha} - \\partial_\\rho g_{\\mu\\alpha} \\Gamma^\\alpha_{\\nu\\sigma} + \\partial_\\sigma g_{\\mu\\alpha} \\Gamma^\\alpha_{\\nu\\rho}\n",
    "\\end{equation}\n",
    "and"
   ]
  },
  {
   "cell_type": "code",
   "execution_count": 134,
   "id": "2873ec8c",
   "metadata": {},
   "outputs": [],
   "source": [
    "Rm = Riemann('Rm',g)"
   ]
  },
  {
   "cell_type": "markdown",
   "id": "c37d2296",
   "metadata": {},
   "source": [
    "The Ricci tensor $R_{\\mu\\nu}$ can be, respectively, calculated and displayed in jupyter by\n",
    "\\begin{equation}\n",
    "R_{\\alpha\\beta} = R_{\\mu \\alpha\\beta}^\\mu\n",
    "\\end{equation}\n",
    "and"
   ]
  },
  {
   "cell_type": "code",
   "execution_count": 135,
   "id": "fe640156",
   "metadata": {},
   "outputs": [
    {
     "data": {
      "text/latex": [
       "$\\displaystyle \\left[\\begin{matrix}\\frac{3 \\left(L^{2} l^{2} - 2 L^{2} l \\rho + L^{2} \\rho^{2} + l^{2} \\rho^{2}\\right)}{L^{4} \\left(l^{2} - 2 l \\rho + \\rho^{2}\\right)} & 0 & 0 & 0\\\\0 & - \\frac{3 l^{4}}{L^{2} l^{4} - 4 L^{2} l^{3} \\rho + 6 L^{2} l^{2} \\rho^{2} - 4 L^{2} l \\rho^{3} + L^{2} \\rho^{4} + l^{4} \\rho^{2} - 2 l^{3} \\rho^{3} + l^{2} \\rho^{4}} & 0 & 0\\\\0 & 0 & - \\frac{3 l^{2} \\rho^{2}}{L^{2} \\left(l^{2} - 2 l \\rho + \\rho^{2}\\right)} & 0\\\\0 & 0 & 0 & - \\frac{3 l^{2} \\rho^{2} \\sin^{2}{\\left(\\chi \\right)}}{L^{2} \\left(l^{2} - 2 l \\rho + \\rho^{2}\\right)}\\end{matrix}\\right]$"
      ],
      "text/plain": [
       "⎡  ⎛ 2  2      2        2  2    2  2⎞                                         \n",
       "⎢3⋅⎝L ⋅l  - 2⋅L ⋅l⋅ρ + L ⋅ρ  + l ⋅ρ ⎠                                         \n",
       "⎢────────────────────────────────────                                       0 \n",
       "⎢         4 ⎛ 2            2⎞                                                 \n",
       "⎢        L ⋅⎝l  - 2⋅l⋅ρ + ρ ⎠                                                 \n",
       "⎢                                                                             \n",
       "⎢                                                                             \n",
       "⎢                                                                         -3⋅l\n",
       "⎢                 0                    ───────────────────────────────────────\n",
       "⎢                                       2  4      2  3        2  2  2      2  \n",
       "⎢                                      L ⋅l  - 4⋅L ⋅l ⋅ρ + 6⋅L ⋅l ⋅ρ  - 4⋅L ⋅l\n",
       "⎢                                                                             \n",
       "⎢                                                                             \n",
       "⎢                                                                             \n",
       "⎢                 0                                                         0 \n",
       "⎢                                                                             \n",
       "⎢                                                                             \n",
       "⎢                                                                             \n",
       "⎢                                                                             \n",
       "⎢                                                                             \n",
       "⎢                 0                                                         0 \n",
       "⎢                                                                             \n",
       "⎣                                                                             \n",
       "\n",
       "                                                                              \n",
       "                                                                              \n",
       "                                                0                     0       \n",
       "                                                                              \n",
       "                                                                              \n",
       "                                                                              \n",
       "4                                                                             \n",
       "                                                                              \n",
       "─────────────────────────────────────           0                     0       \n",
       "  3    2  4    4  2      3  3    2  4                                         \n",
       "⋅ρ  + L ⋅ρ  + l ⋅ρ  - 2⋅l ⋅ρ  + l ⋅ρ                                          \n",
       "                                                                              \n",
       "                                                2  2                          \n",
       "                                            -3⋅l ⋅ρ                           \n",
       "                                       ────────────────────           0       \n",
       "                                        2 ⎛ 2            2⎞                   \n",
       "                                       L ⋅⎝l  - 2⋅l⋅ρ + ρ ⎠                   \n",
       "                                                                              \n",
       "                                                                  2  2    2   \n",
       "                                                              -3⋅l ⋅ρ ⋅sin (χ)\n",
       "                                                0            ─────────────────\n",
       "                                                              2 ⎛ 2           \n",
       "                                                             L ⋅⎝l  - 2⋅l⋅ρ + \n",
       "\n",
       "   ⎤\n",
       "   ⎥\n",
       "   ⎥\n",
       "   ⎥\n",
       "   ⎥\n",
       "   ⎥\n",
       "   ⎥\n",
       "   ⎥\n",
       "   ⎥\n",
       "   ⎥\n",
       "   ⎥\n",
       "   ⎥\n",
       "   ⎥\n",
       "   ⎥\n",
       "   ⎥\n",
       "   ⎥\n",
       "   ⎥\n",
       "   ⎥\n",
       "   ⎥\n",
       "   ⎥\n",
       "───⎥\n",
       " 2⎞⎥\n",
       "ρ ⎠⎦"
      ]
     },
     "execution_count": 135,
     "metadata": {},
     "output_type": "execute_result"
    }
   ],
   "source": [
    "Ri = Ricci('Ri', g)\n",
    "Ri(All, All)"
   ]
  },
  {
   "cell_type": "markdown",
   "id": "d7a39f38",
   "metadata": {},
   "source": [
    "while the Ricci scalar R can be, respectively, calculated and displayed in jupyter by\n",
    "\\begin{equation}\n",
    "R = R_\\mu^\\mu\n",
    "\\end{equation}\n",
    "and"
   ]
  },
  {
   "cell_type": "code",
   "execution_count": 136,
   "id": "a9c82f38",
   "metadata": {},
   "outputs": [
    {
     "data": {
      "text/latex": [
       "$\\displaystyle - \\frac{12}{L^{2}}$"
      ],
      "text/plain": [
       "-12 \n",
       "────\n",
       "  2 \n",
       " L  "
      ]
     },
     "execution_count": 136,
     "metadata": {},
     "output_type": "execute_result"
    }
   ],
   "source": [
    "Ri.scalar()"
   ]
  },
  {
   "cell_type": "markdown",
   "id": "8ab26fbf",
   "metadata": {},
   "source": [
    "Let us calculate the spatial Ricci scalar:\n",
    "\\begin{equation}\n",
    "\\hat{R}=\\gamma^{ij} \\hat{R}_{ij}\n",
    "\\end{equation}\n",
    "For this, we need to redefine the spatial $\\gamma$ matrix and calculate the same objects\n",
    "as above."
   ]
  },
  {
   "cell_type": "code",
   "execution_count": 137,
   "id": "9d5f3155",
   "metadata": {},
   "outputs": [],
   "source": [
    "rho, chi, theta, L, l = symbols('rho, chi, theta, L, l')\n",
    "g = Function('g')(rho)\n",
    "# create a coordinate four-vector object instantiating \n",
    "# the Coordinates class\n",
    "x = Coordinates('x', [rho, chi, theta])\n",
    "# define a matrix of a metric tensor components\n",
    "#Metric = diag((1-2*M/r), -1/(1-2*M/r), -r**2, -r**2*sin(theta)**2)\n",
    "Metric = diag( 1 / ( (1-rho/l)**4 + (1-rho/l)**2 * rho**2 / L**2), rho**2 / (1-rho/l)**2, rho**2*sin(chi)**2/ (1-rho/l)**2 )\n",
    "# create a metric tensor object instantiating the MetricTensor class\n",
    "h = MetricTensor('h', x, Metric)"
   ]
  },
  {
   "cell_type": "code",
   "execution_count": 138,
   "id": "be00dc5c",
   "metadata": {},
   "outputs": [
    {
     "data": {
      "text/latex": [
       "$\\displaystyle \\left[\\begin{matrix}\\frac{1}{\\left(1 - \\frac{\\rho}{l}\\right)^{4} + \\frac{\\rho^{2} \\left(1 - \\frac{\\rho}{l}\\right)^{2}}{L^{2}}} & 0 & 0\\\\0 & \\frac{\\rho^{2}}{\\left(1 - \\frac{\\rho}{l}\\right)^{2}} & 0\\\\0 & 0 & \\frac{\\rho^{2} \\sin^{2}{\\left(\\chi \\right)}}{\\left(1 - \\frac{\\rho}{l}\\right)^{2}}\\end{matrix}\\right]$"
      ],
      "text/plain": [
       "⎡          1                                 ⎤\n",
       "⎢──────────────────────     0          0     ⎥\n",
       "⎢                     2                      ⎥\n",
       "⎢            2 ⎛    ρ⎞                       ⎥\n",
       "⎢       4   ρ ⋅⎜1 - ─⎟                       ⎥\n",
       "⎢⎛    ρ⎞       ⎝    l⎠                       ⎥\n",
       "⎢⎜1 - ─⎟  + ───────────                      ⎥\n",
       "⎢⎝    l⎠          2                          ⎥\n",
       "⎢                L                           ⎥\n",
       "⎢                                            ⎥\n",
       "⎢                            2               ⎥\n",
       "⎢                           ρ                ⎥\n",
       "⎢          0             ────────      0     ⎥\n",
       "⎢                               2            ⎥\n",
       "⎢                        ⎛    ρ⎞             ⎥\n",
       "⎢                        ⎜1 - ─⎟             ⎥\n",
       "⎢                        ⎝    l⎠             ⎥\n",
       "⎢                                            ⎥\n",
       "⎢                                   2    2   ⎥\n",
       "⎢                                  ρ ⋅sin (χ)⎥\n",
       "⎢          0                0      ──────────⎥\n",
       "⎢                                          2 ⎥\n",
       "⎢                                   ⎛    ρ⎞  ⎥\n",
       "⎢                                   ⎜1 - ─⎟  ⎥\n",
       "⎣                                   ⎝    l⎠  ⎦"
      ]
     },
     "execution_count": 138,
     "metadata": {},
     "output_type": "execute_result"
    }
   ],
   "source": [
    "h(All, All)"
   ]
  },
  {
   "cell_type": "code",
   "execution_count": 139,
   "id": "731b2681",
   "metadata": {},
   "outputs": [],
   "source": [
    "Ga_spatial = Christoffel('Ga_spatial',h)\n",
    "Rm_spatial = Riemann('Rm_spatial',h)\n",
    "Ri_spatial = Ricci('Ri_spatial', h)"
   ]
  },
  {
   "cell_type": "markdown",
   "id": "1813908f",
   "metadata": {},
   "source": [
    "The Christoffel symbols can be calcualted as above where\n",
    "\\begin{align}\n",
    "Ga(k,l,m) &= \\hat{\\Gamma}_{klm} \\\\\n",
    "Ga(-k,l,m)&= \\hat{\\Gamma}^k_{lm}\n",
    "\\end{align}"
   ]
  },
  {
   "cell_type": "code",
   "execution_count": 140,
   "id": "46cf46dc",
   "metadata": {},
   "outputs": [
    {
     "data": {
      "text/latex": [
       "$\\displaystyle \\left[\\begin{matrix}\\frac{2 L^{2} \\left(l - \\rho\\right)^{2} + l^{2} \\rho^{2} - l^{2} \\rho \\left(l - \\rho\\right)}{\\left(l - \\rho\\right) \\left(L^{2} \\left(l - \\rho\\right)^{2} + l^{2} \\rho^{2}\\right)} & 0 & 0\\\\0 & - \\frac{\\rho \\left(L^{2} \\left(l - \\rho\\right)^{2} + l^{2} \\rho^{2}\\right)}{L^{2} l \\left(l - \\rho\\right)} & 0\\\\0 & 0 & - \\frac{\\rho \\left(L^{2} \\left(l - \\rho\\right)^{2} + l^{2} \\rho^{2}\\right) \\sin^{2}{\\left(\\chi \\right)}}{L^{2} l \\left(l - \\rho\\right)}\\end{matrix}\\right]$"
      ],
      "text/plain": [
       "⎡   2        2    2  2    2                                                   \n",
       "⎢2⋅L ⋅(l - ρ)  + l ⋅ρ  - l ⋅ρ⋅(l - ρ)                                         \n",
       "⎢────────────────────────────────────              0                          \n",
       "⎢           ⎛ 2        2    2  2⎞                                             \n",
       "⎢   (l - ρ)⋅⎝L ⋅(l - ρ)  + l ⋅ρ ⎠                                             \n",
       "⎢                                                                             \n",
       "⎢                                         ⎛ 2        2    2  2⎞               \n",
       "⎢                                      -ρ⋅⎝L ⋅(l - ρ)  + l ⋅ρ ⎠               \n",
       "⎢                 0                    ─────────────────────────              \n",
       "⎢                                              2                              \n",
       "⎢                                             L ⋅l⋅(l - ρ)                    \n",
       "⎢                                                                             \n",
       "⎢                                                                    ⎛ 2      \n",
       "⎢                                                                 -ρ⋅⎝L ⋅(l - \n",
       "⎢                 0                                0              ────────────\n",
       "⎢                                                                             \n",
       "⎣                                                                            L\n",
       "\n",
       "                     ⎤\n",
       "                     ⎥\n",
       "    0                ⎥\n",
       "                     ⎥\n",
       "                     ⎥\n",
       "                     ⎥\n",
       "                     ⎥\n",
       "                     ⎥\n",
       "    0                ⎥\n",
       "                     ⎥\n",
       "                     ⎥\n",
       "                     ⎥\n",
       "  2    2  2⎞    2    ⎥\n",
       "ρ)  + l ⋅ρ ⎠⋅sin (χ) ⎥\n",
       "─────────────────────⎥\n",
       "2                    ⎥\n",
       " ⋅l⋅(l - ρ)          ⎦"
      ]
     },
     "execution_count": 140,
     "metadata": {},
     "output_type": "execute_result"
    }
   ],
   "source": [
    "Ga_spatial(-1,All,All)"
   ]
  },
  {
   "cell_type": "markdown",
   "id": "7afd4c42",
   "metadata": {},
   "source": [
    "In this way, $\\hat{\\Gamma}^\\rho_{\\rho\\rho},\\hat{\\Gamma}^\\rho_{\\chi\\chi},\\hat{\\Gamma}^\\rho_{\\theta\\theta}$ can be written in terms of $q=1-\\rho/\\ell$ and $a=q^2 + \\rho^2 / L^2 $ by\n",
    "\\begin{align}\n",
    "\\hat{\\Gamma}^\\rho_{\\rho\\rho} &= \\frac{q}{a \\ell} + \\frac{1}{q \\ell} - \\frac{\\rho}{L^2 a}  \\\\\n",
    "\\hat{\\Gamma}^\\rho_{\\chi\\chi} &= - \\frac{\\rho a}{q}   \\\\\n",
    "\\hat{\\Gamma}^\\rho_{\\theta\\theta} &= - \\frac{\\rho a \\sin^2 \\chi}{q}  \n",
    "\\end{align}\n",
    "and thus\n",
    "\\begin{align}\n",
    "\\hat{\\gamma}^{\\rho\\rho} \\hat{\\Gamma}^\\rho_{\\rho\\rho} &= \\frac{q^3}{\\ell} + \\frac{q a}{\\ell} - \\frac{q^2 \\rho}{L^2}  \\\\\n",
    "\\hat{\\gamma}^{\\chi\\chi} \\hat{\\Gamma}^\\rho_{\\chi\\chi} &= - \\frac{q a}{\\rho}  \\\\\n",
    "\\hat{\\gamma}^{\\theta\\theta} \\hat{\\Gamma}^\\rho_{\\theta\\theta} &= - \\frac{ a q}{\\rho}  \n",
    "\\end{align}"
   ]
  },
  {
   "cell_type": "code",
   "execution_count": 141,
   "id": "23b078ac",
   "metadata": {},
   "outputs": [
    {
     "data": {
      "text/latex": [
       "$\\displaystyle \\left[\\begin{matrix}0 & \\frac{l}{\\rho \\left(l - \\rho\\right)} & 0\\\\\\frac{l}{\\rho \\left(l - \\rho\\right)} & 0 & 0\\\\0 & 0 & - \\frac{\\sin{\\left(2 \\chi \\right)}}{2}\\end{matrix}\\right]$"
      ],
      "text/plain": [
       "⎡               l                ⎤\n",
       "⎢    0      ─────────      0     ⎥\n",
       "⎢           ρ⋅(l - ρ)            ⎥\n",
       "⎢                                ⎥\n",
       "⎢    l                           ⎥\n",
       "⎢─────────      0          0     ⎥\n",
       "⎢ρ⋅(l - ρ)                       ⎥\n",
       "⎢                                ⎥\n",
       "⎢                      -sin(2⋅χ) ⎥\n",
       "⎢    0          0      ──────────⎥\n",
       "⎣                          2     ⎦"
      ]
     },
     "execution_count": 141,
     "metadata": {},
     "output_type": "execute_result"
    }
   ],
   "source": [
    "Ga_spatial(-2,All,All)"
   ]
  },
  {
   "cell_type": "markdown",
   "id": "dbbd5f54",
   "metadata": {},
   "source": [
    "Using the latter, we can simplify \n",
    "\\begin{equation}\n",
    "\\hat{\\gamma}^{\\theta\\theta} \\hat{\\Gamma}^\\chi_{\\theta\\theta} = -\\frac{q^2}{\\rho^2 \\sin^2 \\chi} \\frac{\\sin 2\\chi}{2} = -\\frac{q^2 \\cot \\chi}{\\rho^2}\n",
    "\\end{equation}"
   ]
  },
  {
   "cell_type": "code",
   "execution_count": 142,
   "id": "8c104b83",
   "metadata": {},
   "outputs": [
    {
     "data": {
      "text/latex": [
       "$\\displaystyle \\left[\\begin{matrix}0 & 0 & \\frac{l}{\\rho \\left(l - \\rho\\right)}\\\\0 & 0 & \\frac{\\sin{\\left(2 \\chi \\right)}}{2 \\sin^{2}{\\left(\\chi \\right)}}\\\\\\frac{l}{\\rho \\left(l - \\rho\\right)} & \\frac{\\sin{\\left(2 \\chi \\right)}}{2 \\sin^{2}{\\left(\\chi \\right)}} & 0\\end{matrix}\\right]$"
      ],
      "text/plain": [
       "⎡                          l    ⎤\n",
       "⎢    0          0      ─────────⎥\n",
       "⎢                      ρ⋅(l - ρ)⎥\n",
       "⎢                               ⎥\n",
       "⎢                       sin(2⋅χ)⎥\n",
       "⎢    0          0      ─────────⎥\n",
       "⎢                           2   ⎥\n",
       "⎢                      2⋅sin (χ)⎥\n",
       "⎢                               ⎥\n",
       "⎢    l       sin(2⋅χ)           ⎥\n",
       "⎢─────────  ─────────      0    ⎥\n",
       "⎢ρ⋅(l - ρ)       2              ⎥\n",
       "⎣           2⋅sin (χ)           ⎦"
      ]
     },
     "execution_count": 142,
     "metadata": {},
     "output_type": "execute_result"
    }
   ],
   "source": [
    "Ga_spatial(-3,All,All)"
   ]
  },
  {
   "cell_type": "markdown",
   "id": "5eeb03bb",
   "metadata": {},
   "source": [
    "The spatial Ricci scalar $\\hat{R}$ is given by"
   ]
  },
  {
   "cell_type": "code",
   "execution_count": 143,
   "id": "d7499fb9",
   "metadata": {},
   "outputs": [
    {
     "data": {
      "text/latex": [
       "$\\displaystyle - \\frac{6}{L^{2}}$"
      ],
      "text/plain": [
       "-6 \n",
       "───\n",
       "  2\n",
       " L "
      ]
     },
     "execution_count": 143,
     "metadata": {},
     "output_type": "execute_result"
    }
   ],
   "source": [
    "Ri_spatial.scalar()"
   ]
  }
 ],
 "metadata": {
  "kernelspec": {
   "display_name": "Python 3 (ipykernel)",
   "language": "python",
   "name": "python3"
  },
  "language_info": {
   "codemirror_mode": {
    "name": "ipython",
    "version": 3
   },
   "file_extension": ".py",
   "mimetype": "text/x-python",
   "name": "python",
   "nbconvert_exporter": "python",
   "pygments_lexer": "ipython3",
   "version": "3.8.10"
  }
 },
 "nbformat": 4,
 "nbformat_minor": 5
}
